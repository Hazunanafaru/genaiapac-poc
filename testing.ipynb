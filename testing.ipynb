{
 "cells": [
  {
   "cell_type": "code",
   "execution_count": 11,
   "metadata": {},
   "outputs": [],
   "source": [
    "import os\n",
    "from file_management import UPLOAD_DIRECTORY\n",
    "from langchain.embeddings import GPT4AllEmbeddings\n",
    "from langchain.embeddings.openai import OpenAIEmbeddings\n",
    "from langchain.text_splitter import CharacterTextSplitter\n",
    "from langchain.vectorstores import FAISS\n",
    "from langchain.document_loaders import TextLoader\n",
    "from langchain.document_loaders import PyPDFLoader\n",
    "\n",
    "\n",
    "def doc_indexer(filename):\n",
    "    directory = os.path.join(UPLOAD_DIRECTORY, filename)\n",
    "    loader = PyPDFLoader(directory)\n",
    "    pages = loader.load_and_split()\n",
    "    embeddings = GPT4AllEmbeddings()\n",
    "    db = FAISS.from_documents(pages, embeddings)\n",
    "    return db"
   ]
  },
  {
   "cell_type": "code",
   "execution_count": null,
   "metadata": {},
   "outputs": [],
   "source": [
    "try:\n",
    "    LLM = Llama(model_path=model_path, n_gpu_layers=32, n_threads=6, n_ctx=3584, n_batch=521, verbose=True, temperature=0, cuda_device=0)\n",
    "    context = doc_retriever(user_prompt)\n",
    "    prompt_template = \"\"\"\n",
    "    You must answer the question\n",
    "    \"\"\"\n",
    "    print(prompt_template)\n",
    "    a=time.time()\n",
    "    output = LLM(prompt_template, max_tokens=0)\n",
    "    b=time.time()\n",
    "    c=b-a\n",
    "    json_object = json.dumps(output, indent=4)\n",
    "    with open(\"response.json\", \"w\") as outfile:\n",
    "        outfile.write(json_object)\n",
    "    print(output[\"choices\"][0][\"text\"])\n",
    "    print(c)\n",
    "\n",
    "except Exception as e:\n",
    "    print(f\"An error occurred: {str(e)}\")"
   ]
  },
  {
   "cell_type": "code",
   "execution_count": 16,
   "metadata": {},
   "outputs": [],
   "source": [
    "docs = []\n",
    "for i in range(len(pages)):\n",
    "    no_hal = pages[i].metadata[\"page\"]\n",
    "    isi = pages[i].page_content\n",
    "    a = f\"\"\"Nomor Halaman: {no_hal}\n",
    "    \\n\\n\n",
    "    Isi:\\n\n",
    "    {isi}\n",
    "    \"\"\"\n",
    "    docs.append(a)"
   ]
  },
  {
   "cell_type": "code",
   "execution_count": 18,
   "metadata": {},
   "outputs": [],
   "source": [
    "docs = db.similarity_search(\"pendanaan itu\")"
   ]
  },
  {
   "cell_type": "code",
   "execution_count": 19,
   "metadata": {},
   "outputs": [
    {
     "data": {
      "text/plain": [
       "Document(page_content='PRESIDEN\\nREFUBLIK INDONESIA\\n-6-\\nPasal 350E}\\nAyat (1)\\nYang dimaksud dengan \"berdampak\\nterhadap perubahan pengaturan\\nmanajemen aparatur sipil negara\" misalnya\\nadalah, pemetaan pegawai, pola karier, peta\\njabatan, penilaian kinerja, hak keuangan\\nseperti tunjangan fungsional, kelas jabatan,\\ntunjangan kinerja, atau hak PNS lainnya\\nsesuai ketentuan peraturan perundang-\\nundangan.\\nAyat (2)\\nCukup jelas.\\nAngka 28\\nPasal 352\\nCukup jelas.\\nAngka 29\\nPasal 352A\\nCukup jelas.\\nAngka 30\\nPasal 360A\\nCukup jelas.\\nPasal II\\nCukup jelas.\\nTAMBAHAN LEMBARAN NEGARA REPUBLIK INDONESIA NOMOR\\nSK No 023851 A', metadata={'source': './Peraturan Manajemen PNS.pdf', 'page': 32})"
      ]
     },
     "execution_count": 19,
     "metadata": {},
     "output_type": "execute_result"
    }
   ],
   "source": [
    "docs[1]"
   ]
  },
  {
   "cell_type": "code",
   "execution_count": 14,
   "metadata": {},
   "outputs": [
    {
     "ename": "AttributeError",
     "evalue": "'str' object has no attribute 'page_content'",
     "output_type": "error",
     "traceback": [
      "\u001b[1;31m---------------------------------------------------------------------------\u001b[0m",
      "\u001b[1;31mAttributeError\u001b[0m                            Traceback (most recent call last)",
      "Cell \u001b[1;32mIn[14], line 1\u001b[0m\n\u001b[1;32m----> 1\u001b[0m \u001b[43mdoc_indexer\u001b[49m\u001b[43m(\u001b[49m\u001b[38;5;124;43m\"\u001b[39;49m\u001b[38;5;124;43mPeraturan Pendanaan Pendidikan.pdf\u001b[39;49m\u001b[38;5;124;43m\"\u001b[39;49m\u001b[43m)\u001b[49m\n",
      "Cell \u001b[1;32mIn[11], line 26\u001b[0m, in \u001b[0;36mdoc_indexer\u001b[1;34m(filename)\u001b[0m\n\u001b[0;32m     24\u001b[0m     docs\u001b[38;5;241m.\u001b[39mappend(a)\n\u001b[0;32m     25\u001b[0m embeddings \u001b[38;5;241m=\u001b[39m GPT4AllEmbeddings()\n\u001b[1;32m---> 26\u001b[0m db \u001b[38;5;241m=\u001b[39m \u001b[43mFAISS\u001b[49m\u001b[38;5;241;43m.\u001b[39;49m\u001b[43mfrom_documents\u001b[49m\u001b[43m(\u001b[49m\u001b[43mdocs\u001b[49m\u001b[43m,\u001b[49m\u001b[43m \u001b[49m\u001b[43membeddings\u001b[49m\u001b[43m)\u001b[49m\n\u001b[0;32m     27\u001b[0m \u001b[38;5;28;01mreturn\u001b[39;00m \u001b[38;5;28mprint\u001b[39m(db\u001b[38;5;241m.\u001b[39msimilarity_search(\u001b[38;5;124m\"\u001b[39m\u001b[38;5;124mcoba\u001b[39m\u001b[38;5;124m\"\u001b[39m))\n",
      "File \u001b[1;32mc:\\Users\\Muhammad Fauzan\\AppData\\Local\\Programs\\Python\\Python39\\lib\\langchain\\vectorstores\\base.py:411\u001b[0m, in \u001b[0;36mVectorStore.from_documents\u001b[1;34m(cls, documents, embedding, **kwargs)\u001b[0m\n\u001b[0;32m    403\u001b[0m \u001b[38;5;129m@classmethod\u001b[39m\n\u001b[0;32m    404\u001b[0m \u001b[38;5;28;01mdef\u001b[39;00m \u001b[38;5;21mfrom_documents\u001b[39m(\n\u001b[0;32m    405\u001b[0m     \u001b[38;5;28mcls\u001b[39m: Type[VST],\n\u001b[1;32m   (...)\u001b[0m\n\u001b[0;32m    408\u001b[0m     \u001b[38;5;241m*\u001b[39m\u001b[38;5;241m*\u001b[39mkwargs: Any,\n\u001b[0;32m    409\u001b[0m ) \u001b[38;5;241m-\u001b[39m\u001b[38;5;241m>\u001b[39m VST:\n\u001b[0;32m    410\u001b[0m \u001b[38;5;250m    \u001b[39m\u001b[38;5;124;03m\"\"\"Return VectorStore initialized from documents and embeddings.\"\"\"\u001b[39;00m\n\u001b[1;32m--> 411\u001b[0m     texts \u001b[38;5;241m=\u001b[39m [d\u001b[38;5;241m.\u001b[39mpage_content \u001b[38;5;28;01mfor\u001b[39;00m d \u001b[38;5;129;01min\u001b[39;00m documents]\n\u001b[0;32m    412\u001b[0m     metadatas \u001b[38;5;241m=\u001b[39m [d\u001b[38;5;241m.\u001b[39mmetadata \u001b[38;5;28;01mfor\u001b[39;00m d \u001b[38;5;129;01min\u001b[39;00m documents]\n\u001b[0;32m    413\u001b[0m     \u001b[38;5;28;01mreturn\u001b[39;00m \u001b[38;5;28mcls\u001b[39m\u001b[38;5;241m.\u001b[39mfrom_texts(texts, embedding, metadatas\u001b[38;5;241m=\u001b[39mmetadatas, \u001b[38;5;241m*\u001b[39m\u001b[38;5;241m*\u001b[39mkwargs)\n",
      "File \u001b[1;32mc:\\Users\\Muhammad Fauzan\\AppData\\Local\\Programs\\Python\\Python39\\lib\\langchain\\vectorstores\\base.py:411\u001b[0m, in \u001b[0;36m<listcomp>\u001b[1;34m(.0)\u001b[0m\n\u001b[0;32m    403\u001b[0m \u001b[38;5;129m@classmethod\u001b[39m\n\u001b[0;32m    404\u001b[0m \u001b[38;5;28;01mdef\u001b[39;00m \u001b[38;5;21mfrom_documents\u001b[39m(\n\u001b[0;32m    405\u001b[0m     \u001b[38;5;28mcls\u001b[39m: Type[VST],\n\u001b[1;32m   (...)\u001b[0m\n\u001b[0;32m    408\u001b[0m     \u001b[38;5;241m*\u001b[39m\u001b[38;5;241m*\u001b[39mkwargs: Any,\n\u001b[0;32m    409\u001b[0m ) \u001b[38;5;241m-\u001b[39m\u001b[38;5;241m>\u001b[39m VST:\n\u001b[0;32m    410\u001b[0m \u001b[38;5;250m    \u001b[39m\u001b[38;5;124;03m\"\"\"Return VectorStore initialized from documents and embeddings.\"\"\"\u001b[39;00m\n\u001b[1;32m--> 411\u001b[0m     texts \u001b[38;5;241m=\u001b[39m [\u001b[43md\u001b[49m\u001b[38;5;241;43m.\u001b[39;49m\u001b[43mpage_content\u001b[49m \u001b[38;5;28;01mfor\u001b[39;00m d \u001b[38;5;129;01min\u001b[39;00m documents]\n\u001b[0;32m    412\u001b[0m     metadatas \u001b[38;5;241m=\u001b[39m [d\u001b[38;5;241m.\u001b[39mmetadata \u001b[38;5;28;01mfor\u001b[39;00m d \u001b[38;5;129;01min\u001b[39;00m documents]\n\u001b[0;32m    413\u001b[0m     \u001b[38;5;28;01mreturn\u001b[39;00m \u001b[38;5;28mcls\u001b[39m\u001b[38;5;241m.\u001b[39mfrom_texts(texts, embedding, metadatas\u001b[38;5;241m=\u001b[39mmetadatas, \u001b[38;5;241m*\u001b[39m\u001b[38;5;241m*\u001b[39mkwargs)\n",
      "\u001b[1;31mAttributeError\u001b[0m: 'str' object has no attribute 'page_content'"
     ]
    }
   ],
   "source": [
    "doc_indexer(\"Peraturan Pendanaan Pendidikan.pdf\")"
   ]
  },
  {
   "cell_type": "code",
   "execution_count": null,
   "metadata": {},
   "outputs": [],
   "source": []
  },
  {
   "cell_type": "code",
   "execution_count": null,
   "metadata": {},
   "outputs": [],
   "source": [
    "import streamlit as st\n",
    "from PyPDF2 import PdfReader\n",
    "\n",
    "def extract_text_from_pdf(pdf):\n",
    "    pdf_reader = PdfReader(pdf)\n",
    "    return ''.join(page.extract_text() for page in pdf_reader.pages)\n",
    "\n",
    "def main():\n",
    "    st.title(\"Chat with Your PDF\")\n",
    "    pdf = st.file_uploader(\"Upload your PDF\", type=\"pdf\")\n",
    "    if pdf:\n",
    "        text = extract_text_from_pdf(pdf)\n",
    "        question = st.text_input(\"Ask a question about the PDF:\")\n",
    "        if question:\n",
    "            # Placeholder for answer fetching\n",
    "            st.write(\"Answer will go here!\")\n",
    "            st.download_button(\"Open PDF\", pdf.getvalue(), \"document.pdf\", mime=\"application/pdf\")\n",
    "            \n",
    "if __name__ == '__main__':\n",
    "    main() "
   ]
  }
 ],
 "metadata": {
  "kernelspec": {
   "display_name": "Python 3",
   "language": "python",
   "name": "python3"
  },
  "language_info": {
   "codemirror_mode": {
    "name": "ipython",
    "version": 3
   },
   "file_extension": ".py",
   "mimetype": "text/x-python",
   "name": "python",
   "nbconvert_exporter": "python",
   "pygments_lexer": "ipython3",
   "version": "3.9.13"
  }
 },
 "nbformat": 4,
 "nbformat_minor": 2
}
